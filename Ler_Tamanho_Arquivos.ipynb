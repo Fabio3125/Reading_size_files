{
 "cells": [
  {
   "cell_type": "markdown",
   "id": "7f41a3bc",
   "metadata": {},
   "source": [
    "Para saber o caminho de um arquivo:\n",
    "\n",
    "Pressionar a tecla \"Shift\" e clicar com o botão direito do mouse e selecionar \"Copiar como caminho\"\n",
    "\n",
    "\"C:\\Users\\Fabio\\Documents\\test.png\""
   ]
  },
  {
   "cell_type": "code",
   "execution_count": 5,
   "id": "9f490a0c",
   "metadata": {},
   "outputs": [
    {
     "name": "stdout",
     "output_type": "stream",
     "text": [
      "The file size is: 2855 bytes \n",
      "\n",
      "The file size is: 0.002855 Megabytes\n"
     ]
    }
   ],
   "source": [
    "from pathlib import Path\n",
    "Path(r'C:\\Users\\Fabio\\Documents\\test.png').stat()\n",
    "file_size_B =Path(r'C:\\Users\\Fabio\\Documents\\test.png').stat().st_size\n",
    "\n",
    "file_size_MB = file_size_B/1e+6\n",
    "\n",
    "print(\"The file size is:\", file_size_B,\"bytes \\n\")\n",
    "print(\"The file size is:\", file_size_MB,\"Megabytes\")\n"
   ]
  },
  {
   "cell_type": "code",
   "execution_count": 8,
   "id": "6f85177f",
   "metadata": {},
   "outputs": [
    {
     "name": "stdout",
     "output_type": "stream",
     "text": [
      "The file size is: 6207908 bytes \n",
      "\n",
      "The file size is: 6.207908 Megabytes\n"
     ]
    }
   ],
   "source": [
    "from pathlib import Path\n",
    "Path(r'C:\\Users\\Fabio\\Downloads\\Samsung _ QLED TV _ Teste de Imagem.mp4').stat()\n",
    "file_size_B =Path(r'C:\\Users\\Fabio\\Downloads\\Samsung _ QLED TV _ Teste de Imagem.mp4').stat().st_size\n",
    "\n",
    "file_size_MB = file_size_B/1e+6\n",
    "\n",
    "print(\"The file size is:\", file_size_B,\"bytes \\n\")\n",
    "print(\"The file size is:\", file_size_MB,\"Megabytes\")"
   ]
  }
 ],
 "metadata": {
  "kernelspec": {
   "display_name": "Python 3 (ipykernel)",
   "language": "python",
   "name": "python3"
  },
  "language_info": {
   "codemirror_mode": {
    "name": "ipython",
    "version": 3
   },
   "file_extension": ".py",
   "mimetype": "text/x-python",
   "name": "python",
   "nbconvert_exporter": "python",
   "pygments_lexer": "ipython3",
   "version": "3.10.1"
  },
  "varInspector": {
   "cols": {
    "lenName": 16,
    "lenType": 16,
    "lenVar": 40
   },
   "kernels_config": {
    "python": {
     "delete_cmd_postfix": "",
     "delete_cmd_prefix": "del ",
     "library": "var_list.py",
     "varRefreshCmd": "print(var_dic_list())"
    },
    "r": {
     "delete_cmd_postfix": ") ",
     "delete_cmd_prefix": "rm(",
     "library": "var_list.r",
     "varRefreshCmd": "cat(var_dic_list()) "
    }
   },
   "types_to_exclude": [
    "module",
    "function",
    "builtin_function_or_method",
    "instance",
    "_Feature"
   ],
   "window_display": false
  }
 },
 "nbformat": 4,
 "nbformat_minor": 5
}
